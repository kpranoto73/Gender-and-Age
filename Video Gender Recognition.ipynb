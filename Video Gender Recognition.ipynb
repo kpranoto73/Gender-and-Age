{
 "cells": [
  {
   "cell_type": "code",
   "execution_count": 1,
   "metadata": {
    "collapsed": true
   },
   "outputs": [],
   "source": [
    "import cv2\n",
    "import imutils\n",
    "import time\n",
    "import numpy as np"
   ]
  },
  {
   "cell_type": "code",
   "execution_count": 2,
   "metadata": {
    "collapsed": true
   },
   "outputs": [],
   "source": [
    "def initialize_caffe_models():\n",
    "    age_net = cv2.dnn.readNetFromCaffe(\n",
    "        '/Users/kp/Desktop/Generali/Gender and Age/List/deploy_age.prototxt', \n",
    "        '/Users/kp/Desktop/Generali/Gender and Age/List/age_net.caffemodel')\n",
    "    gender_net = cv2.dnn.readNetFromCaffe(\n",
    "        '/Users/kp/Desktop/Generali/Gender and Age/List/deploy_gender.prototxt', \n",
    "        '/Users/kp/Desktop/Generali/Gender and Age/List/gender_net.caffemodel')\n",
    "    return(age_net, gender_net)\n",
    "\n",
    "def read_from_camera(age_net, gender_net):\n",
    "    font = cv2.FONT_HERSHEY_SIMPLEX\n",
    "    while True:\n",
    "        ret, image = cap.read()\n",
    "        face_cascade = cv2.CascadeClassifier('/Users/kp/Desktop/Generali/Gender and Age/List/haarcascade_frontalface_alt.xml')\n",
    "        gray = cv2.cvtColor(image, cv2.COLOR_BGR2GRAY)\n",
    "        faces = face_cascade.detectMultiScale(gray, 1.1, 5)\n",
    "        if(len(faces)>0):\n",
    "            print(\"Found {} faces\".format(str(len(faces))))\n",
    "        for (x, y, w, h )in faces:\n",
    "            cv2.rectangle(image, (x, y), (x+w, y+h), (255, 255, 0), 2)\n",
    "            face_img = image[y:y+h, h:h+w].copy()\n",
    "            blob = cv2.dnn.blobFromImage(face_img, 1, (227, 227), MODEL_MEAN_VALUES, swapRB=False)\n",
    "\n",
    "            gender_net.setInput(blob)\n",
    "            gender_preds = gender_net.forward()\n",
    "            gender = gender_list[gender_preds[0].argmax()]\n",
    "            print(\"Gender : \" + gender)\n",
    "\n",
    "            age_net.setInput(blob)\n",
    "            age_preds = age_net.forward()\n",
    "            age = age_list[age_preds[0].argmax()]\n",
    "            print(\"Age Range: \" + age)\n",
    "\n",
    "            overlay_text = \"%s %s\" % (gender, age)\n",
    "            cv2.putText(image, overlay_text, (x, y), font, 1, (255, 255, 255), 2, cv2.LINE_AA)\n",
    "\n",
    "        cv2.imshow('frame', image)\n",
    "        if cv2.waitKey(1) & 0xFF == ord('q'):\n",
    "            break\n"
   ]
  },
  {
   "cell_type": "code",
   "execution_count": 4,
   "metadata": {},
   "outputs": [
    {
     "name": "stdout",
     "output_type": "stream",
     "text": [
      "Found 1 faces\n"
     ]
    },
    {
     "ename": "NameError",
     "evalue": "name 'gender_net' is not defined",
     "output_type": "error",
     "traceback": [
      "\u001b[0;31m---------------------------------------------------------------------------\u001b[0m",
      "\u001b[0;31mNameError\u001b[0m                                 Traceback (most recent call last)",
      "\u001b[0;32m<ipython-input-4-d0e7aec01229>\u001b[0m in \u001b[0;36m<module>\u001b[0;34m()\u001b[0m\n\u001b[1;32m      9\u001b[0m \u001b[0;31m# age_net, gender_net = initialize_caffe_models()\u001b[0m\u001b[0;34m\u001b[0m\u001b[0;34m\u001b[0m\u001b[0m\n\u001b[1;32m     10\u001b[0m \u001b[0mage_net\u001b[0m \u001b[0;34m=\u001b[0m \u001b[0minitialize_caffe_models\u001b[0m\u001b[0;34m(\u001b[0m\u001b[0;34m)\u001b[0m\u001b[0;34m\u001b[0m\u001b[0m\n\u001b[0;32m---> 11\u001b[0;31m \u001b[0mread_from_camera\u001b[0m\u001b[0;34m(\u001b[0m\u001b[0mage_net\u001b[0m\u001b[0;34m)\u001b[0m\u001b[0;31m#, gender_net)\u001b[0m\u001b[0;34m\u001b[0m\u001b[0m\n\u001b[0m",
      "\u001b[0;32m<ipython-input-2-0058c5947eb5>\u001b[0m in \u001b[0;36mread_from_camera\u001b[0;34m(age_net)\u001b[0m\n\u001b[1;32m     22\u001b[0m             \u001b[0mblob\u001b[0m \u001b[0;34m=\u001b[0m \u001b[0mcv2\u001b[0m\u001b[0;34m.\u001b[0m\u001b[0mdnn\u001b[0m\u001b[0;34m.\u001b[0m\u001b[0mblobFromImage\u001b[0m\u001b[0;34m(\u001b[0m\u001b[0mface_img\u001b[0m\u001b[0;34m,\u001b[0m \u001b[0;36m1\u001b[0m\u001b[0;34m,\u001b[0m \u001b[0;34m(\u001b[0m\u001b[0;36m227\u001b[0m\u001b[0;34m,\u001b[0m \u001b[0;36m227\u001b[0m\u001b[0;34m)\u001b[0m\u001b[0;34m,\u001b[0m \u001b[0mMODEL_MEAN_VALUES\u001b[0m\u001b[0;34m,\u001b[0m \u001b[0mswapRB\u001b[0m\u001b[0;34m=\u001b[0m\u001b[0;32mFalse\u001b[0m\u001b[0;34m)\u001b[0m\u001b[0;34m\u001b[0m\u001b[0m\n\u001b[1;32m     23\u001b[0m \u001b[0;34m\u001b[0m\u001b[0m\n\u001b[0;32m---> 24\u001b[0;31m             \u001b[0mgender_net\u001b[0m\u001b[0;34m.\u001b[0m\u001b[0msetInput\u001b[0m\u001b[0;34m(\u001b[0m\u001b[0mblob\u001b[0m\u001b[0;34m)\u001b[0m\u001b[0;34m\u001b[0m\u001b[0m\n\u001b[0m\u001b[1;32m     25\u001b[0m             \u001b[0mgender_preds\u001b[0m \u001b[0;34m=\u001b[0m \u001b[0mgender_net\u001b[0m\u001b[0;34m.\u001b[0m\u001b[0mforward\u001b[0m\u001b[0;34m(\u001b[0m\u001b[0;34m)\u001b[0m\u001b[0;34m\u001b[0m\u001b[0m\n\u001b[1;32m     26\u001b[0m             \u001b[0mgender\u001b[0m \u001b[0;34m=\u001b[0m \u001b[0mgender_list\u001b[0m\u001b[0;34m[\u001b[0m\u001b[0mgender_preds\u001b[0m\u001b[0;34m[\u001b[0m\u001b[0;36m0\u001b[0m\u001b[0;34m]\u001b[0m\u001b[0;34m.\u001b[0m\u001b[0margmax\u001b[0m\u001b[0;34m(\u001b[0m\u001b[0;34m)\u001b[0m\u001b[0;34m]\u001b[0m\u001b[0;34m\u001b[0m\u001b[0m\n",
      "\u001b[0;31mNameError\u001b[0m: name 'gender_net' is not defined"
     ]
    }
   ],
   "source": [
    "cap = cv2.VideoCapture(0)\n",
    "cap.set(3, 480)\n",
    "cap.set(4, 640)\n",
    "\n",
    "MODEL_MEAN_VALUES = (78.4263377603, 87.7689143744, 114.895847746)\n",
    "age_list = ['(0, 2)', '(4, 6)', '(8, 12)', '(15, 20)', '(25, 32)', '(38, 43)', '(48, 53)', '(60, 100)']\n",
    "gender_list = ['Male', 'Female']\n",
    "\n",
    "age_net, gender_net = initialize_caffe_models()\n",
    "read_from_camera(age_net, gender_net)"
   ]
  },
  {
   "cell_type": "code",
   "execution_count": null,
   "metadata": {
    "collapsed": true
   },
   "outputs": [],
   "source": []
  },
  {
   "cell_type": "code",
   "execution_count": null,
   "metadata": {
    "collapsed": true
   },
   "outputs": [],
   "source": []
  }
 ],
 "metadata": {
  "anaconda-cloud": {},
  "kernelspec": {
   "display_name": "Python 3",
   "language": "python",
   "name": "python3"
  },
  "language_info": {
   "codemirror_mode": {
    "name": "ipython",
    "version": 3
   },
   "file_extension": ".py",
   "mimetype": "text/x-python",
   "name": "python",
   "nbconvert_exporter": "python",
   "pygments_lexer": "ipython3",
   "version": "3.7.3"
  }
 },
 "nbformat": 4,
 "nbformat_minor": 1
}
